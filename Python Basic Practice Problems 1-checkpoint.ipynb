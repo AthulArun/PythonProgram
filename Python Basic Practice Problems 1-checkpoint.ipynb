{
 "cells": [
  {
   "cell_type": "code",
   "execution_count": 7,
   "id": "bba0af79",
   "metadata": {},
   "outputs": [
    {
     "name": "stdout",
     "output_type": "stream",
     "text": [
      "Enter the radius: 3\n",
      "Area of Circle is 28.259999999999998\n"
     ]
    }
   ],
   "source": [
    "#Q1\n",
    "radius = float(input(\"Enter the radius: \"))\n",
    "area = 3.14 * radius * radius\n",
    "print(\"Area of Circle is\", area)\n"
   ]
  },
  {
   "cell_type": "code",
   "execution_count": 6,
   "id": "3198c835",
   "metadata": {},
   "outputs": [
    {
     "name": "stdout",
     "output_type": "stream",
     "text": [
      "Enter the name: Anisha\n",
      "Enter the roll number: 21\n",
      "Enter the mark: 78\n",
      "Name: Anisha\n",
      "Roll No: 21\n",
      "Mark: 78\n"
     ]
    }
   ],
   "source": [
    "#Q2\n",
    "name = input(\"Enter the name: \")\n",
    "roll = input(\"Enter the roll number: \")\n",
    "mark = input(\"Enter the mark: \")\n",
    "\n",
    "print(\"Name:\", name)\n",
    "print(\"Roll No:\", roll )\n",
    "print(\"Mark:\", mark)\n"
   ]
  },
  {
   "cell_type": "code",
   "execution_count": 5,
   "id": "cf5feb08",
   "metadata": {},
   "outputs": [
    {
     "name": "stdout",
     "output_type": "stream",
     "text": [
      "Enter numbers separated by commas: 12, 3, 47, 10\n",
      "Largest number: 47\n"
     ]
    }
   ],
   "source": [
    "#Q3\n",
    "numbers_list = [int(num) for num in input(\"Enter numbers separated by commas: \").split(',')]\n",
    "print(\"Largest number:\", max(numbers_list))\n"
   ]
  },
  {
   "cell_type": "code",
   "execution_count": 4,
   "id": "7621b147",
   "metadata": {},
   "outputs": [
    {
     "name": "stdout",
     "output_type": "stream",
     "text": [
      "Current Number 1 Previous Number 0 Sum: 1\n",
      "Current Number 2 Previous Number 1 Sum: 3\n",
      "Current Number 3 Previous Number 2 Sum: 5\n",
      "Current Number 4 Previous Number 3 Sum: 7\n",
      "Current Number 5 Previous Number 4 Sum: 9\n",
      "Current Number 6 Previous Number 5 Sum: 11\n",
      "Current Number 7 Previous Number 6 Sum: 13\n",
      "Current Number 8 Previous Number 7 Sum: 15\n",
      "Current Number 9 Previous Number 8 Sum: 17\n",
      "Current Number 10 Previous Number 9 Sum: 19\n"
     ]
    }
   ],
   "source": [
    "#Q4\n",
    "pre_no = 0\n",
    "\n",
    "for current_no in range(1, 11):\n",
    "    print(f\"Current Number {current_no} Previous Number {pre_no} Sum: {current_no + pre_no}\")\n",
    "    pre_no = current_no\n",
    "\n"
   ]
  },
  {
   "cell_type": "code",
   "execution_count": 3,
   "id": "7a2558df",
   "metadata": {},
   "outputs": [
    {
     "name": "stdout",
     "output_type": "stream",
     "text": [
      "Enter numbers: 10, 20,33,46,55\n",
      "Numbers divisible by 5: 10, 20, 55\n"
     ]
    }
   ],
   "source": [
    "#Q5\n",
    "input_no = input(\"Enter numbers: \")\n",
    "numbers = [int(num) for num in input_no.split(',')]\n",
    "\n",
    "div_by_5 = []\n",
    "for num in numbers:\n",
    "    if num % 5 == 0:\n",
    "        div_by_5.append(num)\n",
    "\n",
    "if len(div_by_5) > 0:\n",
    "    print(\"Numbers divisible by 5:\", \", \".join(map(str, div_by_5)))\n",
    "    \n"
   ]
  },
  {
   "cell_type": "code",
   "execution_count": 1,
   "id": "7942a5ae",
   "metadata": {},
   "outputs": [
    {
     "name": "stdout",
     "output_type": "stream",
     "text": [
      "Enter the number: 3\n",
      "3 is a prime number.\n"
     ]
    }
   ],
   "source": [
    "#Q6\n",
    "def is_prime(number):\n",
    "    if number <= 1:\n",
    "        return False\n",
    "    for i in range(2, number):\n",
    "        if number % i == 0:\n",
    "            return False\n",
    "    return True\n",
    "\n",
    "num = int(input(\"Enter the number: \"))\n",
    "\n",
    "if is_prime(num):\n",
    "    print(f\"{num} is a prime number.\")\n",
    "else:\n",
    "    print(f\"{num} is not a prime number.\")\n",
    "    "
   ]
  },
  {
   "cell_type": "code",
   "execution_count": 2,
   "id": "dadbdcd6",
   "metadata": {},
   "outputs": [
    {
     "name": "stdout",
     "output_type": "stream",
     "text": [
      "Enter three numbers separated by commas: 34,12,7\n",
      "The maximum number is: 34\n"
     ]
    }
   ],
   "source": [
    "#Q9\n",
    "numbers = input(\"Enter three numbers separated by commas: \").split(',')\n",
    "num1, num2, num3 = map(int, numbers)\n",
    "\n",
    "maximum = max(num1, num2, num3)\n",
    "\n",
    "print(\"The maximum number is:\", maximum)\n"
   ]
  },
  {
   "cell_type": "code",
   "execution_count": 1,
   "id": "a15fe9d4",
   "metadata": {},
   "outputs": [
    {
     "name": "stdout",
     "output_type": "stream",
     "text": [
      "Enter elements of the list separated by spaces: 10 40 30 70\n",
      "Reversed list: 70, 30, 40, 10\n"
     ]
    }
   ],
   "source": [
    "#Q7\n",
    "input_list = input(\"Enter elements of the list separated by spaces: \").split()\n",
    "reversed_list = [input_list[i] for i in range(len(input_list) - 1, -1, -1)]\n",
    "print(\"Reversed list:\", \", \".join(reversed_list))\n"
   ]
  },
  {
   "cell_type": "code",
   "execution_count": 8,
   "id": "076090a3",
   "metadata": {},
   "outputs": [
    {
     "name": "stdout",
     "output_type": "stream",
     "text": [
      "*\n",
      "**\n",
      "***\n",
      "****\n"
     ]
    }
   ],
   "source": [
    "#Q8\n",
    "def print_pattern(rows):\n",
    "    for i in range(1, rows + 1):\n",
    "        print('*' * i)\n",
    "\n",
    "print_pattern(4)\n"
   ]
  },
  {
   "cell_type": "code",
   "execution_count": 9,
   "id": "ba137b29",
   "metadata": {},
   "outputs": [
    {
     "name": "stdout",
     "output_type": "stream",
     "text": [
      "*\n",
      "**\n",
      "***\n",
      "****\n",
      "*****\n",
      "****\n",
      "***\n",
      "**\n",
      "*\n"
     ]
    }
   ],
   "source": [
    "#Q10\n",
    "def print_pattern(rows):\n",
    "    for i in range(1, rows + 1):\n",
    "        print('*' * i)\n",
    "\n",
    "    for i in range(rows - 1, 0, -1):\n",
    "        print('*' * i)\n",
    "\n",
    "rows = 5\n",
    "print_pattern(rows)\n"
   ]
  },
  {
   "cell_type": "code",
   "execution_count": null,
   "id": "d75edad9",
   "metadata": {},
   "outputs": [],
   "source": []
  }
 ],
 "metadata": {
  "kernelspec": {
   "display_name": "Python 3 (ipykernel)",
   "language": "python",
   "name": "python3"
  },
  "language_info": {
   "codemirror_mode": {
    "name": "ipython",
    "version": 3
   },
   "file_extension": ".py",
   "mimetype": "text/x-python",
   "name": "python",
   "nbconvert_exporter": "python",
   "pygments_lexer": "ipython3",
   "version": "3.11.3"
  }
 },
 "nbformat": 4,
 "nbformat_minor": 5
}
